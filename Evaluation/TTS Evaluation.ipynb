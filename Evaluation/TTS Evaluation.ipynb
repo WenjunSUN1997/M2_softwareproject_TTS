{
 "cells": [
  {
   "cell_type": "markdown",
   "metadata": {},
   "source": [
    "# Objective Evaluation"
   ]
  },
  {
   "cell_type": "code",
   "execution_count": 2,
   "metadata": {},
   "outputs": [],
   "source": [
    "import os\n",
    "\n",
    "def read_files(directory):\n",
    "        files = []\n",
    "        for root, dirnames, filenames in os.walk(directory):\n",
    "            for filename in filenames:\n",
    "                files.append(os.path.join(root, filename))\n",
    "            return files\n",
    "#         print(files)"
   ]
  },
  {
   "cell_type": "code",
   "execution_count": 2,
   "metadata": {},
   "outputs": [
    {
     "data": {
      "text/plain": [
       "['D:\\\\english evaluation objective speech\\\\27.wav',\n",
       " 'D:\\\\english evaluation objective speech\\\\28.wav',\n",
       " 'D:\\\\english evaluation objective speech\\\\29.wav',\n",
       " 'D:\\\\english evaluation objective speech\\\\30.wav',\n",
       " 'D:\\\\english evaluation objective speech\\\\31.wav',\n",
       " 'D:\\\\english evaluation objective speech\\\\32.wav',\n",
       " 'D:\\\\english evaluation objective speech\\\\33.wav',\n",
       " 'D:\\\\english evaluation objective speech\\\\34.wav',\n",
       " 'D:\\\\english evaluation objective speech\\\\35.wav',\n",
       " 'D:\\\\english evaluation objective speech\\\\36.wav']"
      ]
     },
     "execution_count": 2,
     "metadata": {},
     "output_type": "execute_result"
    }
   ],
   "source": [
    "path = \"D:\\english evaluation objective speech\"\n",
    "file = read_files(path)\n",
    "file"
   ]
  },
  {
   "cell_type": "code",
   "execution_count": 3,
   "metadata": {},
   "outputs": [],
   "source": [
    "import speech_recognition as sr\n",
    "\n",
    "def transcribe_audio(path):\n",
    "    r = sr.Recognizer()\n",
    "    audio_file = sr.AudioFile(path)\n",
    "    with audio_file as source:\n",
    "        audio = r.record(source)\n",
    "    try:\n",
    "        res = r.recognize_google(audio, language=\"en-US\")\n",
    "    except sr.UnknownValueError:\n",
    "        res = \"(The speech is unintelligible)\"\n",
    "    except sr.RequestError:\n",
    "        res = \"(The speech recognition operation failed)\"\n",
    "    return res"
   ]
  },
  {
   "cell_type": "code",
   "execution_count": 6,
   "metadata": {},
   "outputs": [],
   "source": [
    "hypo = []\n",
    "for f in file:\n",
    "    transcription = transcribe_audio(f)\n",
    "    hypo.append(transcription)\n",
    "    "
   ]
  },
  {
   "cell_type": "code",
   "execution_count": 7,
   "metadata": {},
   "outputs": [
    {
     "data": {
      "text/plain": [
       "['community to help homeless',\n",
       " 'Council chief executive fails to secure',\n",
       " 'cancel to contest',\n",
       " 'cancel notes to protect test heritage god',\n",
       " 'cancel welcomes ambulance',\n",
       " 'cancel welcomes insurance break',\n",
       " 'cream tales of leadership kruphix 2',\n",
       " 'start a fire expected to rise',\n",
       " 'death toll continues to climb in South Korean sub',\n",
       " 'Coldplay ms-80ver Iraqi concert']"
      ]
     },
     "execution_count": 7,
     "metadata": {},
     "output_type": "execute_result"
    }
   ],
   "source": [
    "hypo"
   ]
  },
  {
   "cell_type": "code",
   "execution_count": 11,
   "metadata": {},
   "outputs": [],
   "source": [
    "ground_truth = [\"community urged to help homeless youth\",\"council chief executive fails to secure position\",'councillor to contest wollongong as independent', \"council moves to protect tas heritage garden\",\"council welcomes ambulance levy decision\",\n",
    "\"council welcomes insurance breakthrough\",\"crean tells alp leadership critics to shut up\",\"dargo fire threat expected to rise\",\"death toll continues to climb in south korean subway\"\n",
    ",\"dems hold plebiscite over iraqi conflict\"]"
   ]
  },
  {
   "cell_type": "code",
   "execution_count": 109,
   "metadata": {},
   "outputs": [],
   "source": [
    "#The most simple use-case is computing the edit distance between two strings:\n",
    "from jiwer import wer\n",
    "error = wer(ground_truth, hypo)"
   ]
  },
  {
   "cell_type": "code",
   "execution_count": 13,
   "metadata": {},
   "outputs": [
    {
     "data": {
      "text/plain": [
       "0.5625"
      ]
     },
     "execution_count": 13,
     "metadata": {},
     "output_type": "execute_result"
    }
   ],
   "source": [
    "error"
   ]
  },
  {
   "cell_type": "markdown",
   "metadata": {},
   "source": [
    "French"
   ]
  },
  {
   "cell_type": "code",
   "execution_count": 12,
   "metadata": {},
   "outputs": [
    {
     "data": {
      "text/plain": [
       "['C:\\\\Users\\\\User\\\\Desktop\\\\french voice speech\\\\emph_book_s01_0005_generated.wav',\n",
       " 'C:\\\\Users\\\\User\\\\Desktop\\\\french voice speech\\\\emph_book_s01_0006_generated.wav',\n",
       " 'C:\\\\Users\\\\User\\\\Desktop\\\\french voice speech\\\\emph_book_s01_0007_generated.wav',\n",
       " 'C:\\\\Users\\\\User\\\\Desktop\\\\french voice speech\\\\emph_book_s01_0008_generated.wav',\n",
       " 'C:\\\\Users\\\\User\\\\Desktop\\\\french voice speech\\\\emph_book_s01_0009_generated.wav',\n",
       " 'C:\\\\Users\\\\User\\\\Desktop\\\\french voice speech\\\\emph_book_s01_0011_generated_2.wav',\n",
       " 'C:\\\\Users\\\\User\\\\Desktop\\\\french voice speech\\\\emph_book_s01_0012_generated.wav',\n",
       " 'C:\\\\Users\\\\User\\\\Desktop\\\\french voice speech\\\\emph_book_s01_0013_generated.wav',\n",
       " 'C:\\\\Users\\\\User\\\\Desktop\\\\french voice speech\\\\emph_book_s01_0014_generated.wav',\n",
       " 'C:\\\\Users\\\\User\\\\Desktop\\\\french voice speech\\\\emph_book_s01_0016_generated.wav']"
      ]
     },
     "execution_count": 12,
     "metadata": {},
     "output_type": "execute_result"
    }
   ],
   "source": [
    "path=r'C:\\Users\\User\\Desktop\\french voice speech' \n",
    "file = read_files(path)\n",
    "file"
   ]
  },
  {
   "cell_type": "code",
   "execution_count": 4,
   "metadata": {},
   "outputs": [],
   "source": [
    "import speech_recognition as sr\n",
    "\n",
    "def transcribe_audio(path):\n",
    "    r = sr.Recognizer()\n",
    "    audio_file = sr.AudioFile(path)\n",
    "    with audio_file as source:\n",
    "        audio = r.record(source)\n",
    "    try:\n",
    "        res = r.recognize_google(audio, language=\"Fr\")\n",
    "    except sr.UnknownValueError:\n",
    "        res = \"(The speech is unintelligible)\"\n",
    "    except sr.RequestError:\n",
    "        res = \"(The speech recognition operation failed)\"\n",
    "    return res"
   ]
  },
  {
   "cell_type": "code",
   "execution_count": 13,
   "metadata": {},
   "outputs": [],
   "source": [
    "hypo = []\n",
    "for f in file:\n",
    "    transcription = transcribe_audio(f)\n",
    "    hypo.append(transcription)"
   ]
  },
  {
   "cell_type": "code",
   "execution_count": 14,
   "metadata": {},
   "outputs": [
    {
     "data": {
      "text/plain": [
       "[\"son âme se lancer jusque dans l'infini et contempler détacher de ses sens l'ordre immuable de l'univers\",\n",
       " \"tu n'es plus mon neveu mais mon collègue\",\n",
       " \"Ayrton raconta alors un peu de mots ce qui s'était passé au du moins ce qu'il savait\",\n",
       " \"c'est que précisément ce n'était pas un navire répondit Nabe\",\n",
       " \"ils ont vu comme j'ai vu moi-même et ils confirmeront mes paroles\",\n",
       " \"rien n'est plus facile dit le capitaine Nemo\",\n",
       " 'les colons de quittèrent pas un instant les Nautilus',\n",
       " \"le premier qui s'avança et est un seigneur très riche non mais il faut revint peu courageux très maladroit et sans esprit\",\n",
       " 'après avoir pensé ce malheureux je leur ai juste et les linges de sa tête et je ne retourner vers le capitaine des mots',\n",
       " 'à quelle distance se gratte est-elle donc des récifs']"
      ]
     },
     "execution_count": 14,
     "metadata": {},
     "output_type": "execute_result"
    }
   ],
   "source": [
    "hypo"
   ]
  },
  {
   "cell_type": "code",
   "execution_count": 15,
   "metadata": {},
   "outputs": [],
   "source": [
    "ground_truth = [\"son âme s’élançait jusque dans l’infini et contemplait détachée de ses sens l’ordre immuable de l’univers\",\"tu n’es plus mon neveu mais mon collègue\",\"Ayrton raconta alors en peu de mots ce qui s’était passé ou du moins ce qu’il savait\",\"C’est que précisément ce n’était pas un honnête navire répondit Nab\",\"ils ont vu comme j’ai vu moi-même et ils confirmeront mes paroles\",\"rien n’est plus facile dit le CAPITAINE Nemo\",\"les colons ne quittarent pas un instant le Nautilus\",\"Le premier qui s’avança était un seigneur très riche nommé Itobad fort vain peu courageux très maladroit et sans esprit\",\"Après avoir pansé ce malheureux, je rajustai les LINGES de sa tête, et je me retournai vers le capitaine Nemo\",\"à quelle distance cette grotte est-elle DONC des récifs\"]"
   ]
  },
  {
   "cell_type": "code",
   "execution_count": 17,
   "metadata": {},
   "outputs": [
    {
     "data": {
      "text/plain": [
       "0.3069306930693069"
      ]
     },
     "execution_count": 17,
     "metadata": {},
     "output_type": "execute_result"
    }
   ],
   "source": [
    "error"
   ]
  },
  {
   "cell_type": "markdown",
   "metadata": {},
   "source": [
    "# Subjective Evaluation "
   ]
  },
  {
   "cell_type": "markdown",
   "metadata": {},
   "source": [
    "French"
   ]
  },
  {
   "cell_type": "code",
   "execution_count": 179,
   "metadata": {},
   "outputs": [],
   "source": [
    "H1=[\"son âme s’élançait jusque dans l’infini et contemplait détaché de ses sens l’ordre immuable de l’univers son âme s’élançait jusqu’à l’infinie et contemplait détachée de ses sens l’ordre immuable de l’univers son âme s'élançait jusque dans l'infini et contemplait, détaché de ses sens l'ordre immuable de l'univers son âme s'élançait jusque dans l'infini et contemplait, détachée de ses sens, l'ordre immuable de l'univers son âme s'élencait jusque dans l'infini, et contemplait détachée de ses sens l'ordre immuable de l'univers son âme s'elancait jusque dans l'infini, et contemplait, détachée de ses sens l'ordre immuable de l'univers son âme s’élançait jusque dans l’infini et contemplait, détachée de ses sens, l’ordre immuable de l’univers  son âme s'élançait jusque dans l'infini et contemplait détaché de ses sens l'ordre immuable de l'univers son âme s'elançait jusque dans l'infini et contemplait détaché de ses sens l'ordre immuable de l'univers son âme s’élançait jusque dans l’infini et contemplait détaché de ses sens l’ordre immuable de l’Univers son âme s'élançait jusque dans l'infini et contemplait détaché de ses sens l'ordre immuable de l'univers son âme s'élançait jusque dans l'infini et contemplait, détâchée de ses sens l'ordre immuable de l'univers son âme s'élançait jusque dans l'infini et contemplait détachez de ses sens l'ordre immuable de l'univers son âme s'élançait jusque dans l'infini et contemplait, détaché de ses sens l'ordre immuable de l'univers\"]\n"
   ]
  },
  {
   "cell_type": "code",
   "execution_count": 180,
   "metadata": {},
   "outputs": [],
   "source": [
    "H2=[\"Étron raconta alors en peu de mots ce qui s’était passé ou du moins ce qu’il savait Herton raconta alors en peu de mots ce qu’il s’était passé ou, du moins, ce qu’il savait  Erton raconta alors en peu de mots ce qui s'était passé, ou du moins ce qu'il savait Erton raconta alors en peu de mots ce qui s'était passé - ou, du moins, ce qu'il savait Herton raconta alors en peu de mots ce qu'il s'était passé ou du moins ce qu'il savait Erton raconta alors en peu de mots ce qu'il s'était passé. Ou, du moins, ce qu'il savait Herton raconta alors en peu de mot ce qui s’était passé, ou du moins ce qu’il savait  Erton raconta alors en quelques mot ce qui se passait ou du moins ce qu'il savait Herton raconta alors en peu de mots ce qui s'était passé, ou du moins ce qu'il sa Herton raconta alors en peu de mots ce qui s’etait passé où du moins ce qu’il savait Horton raconta alors en peu de mots ce qu'il s'était passé ou du moins, ce qu'il savait Herton raconta alors en peu de mots ce qu'il s'était passé, ou, du moins, ce qu'il savait Erton raconta à Laure en peu de mots ce qui c'était passé, ou du moins, ce qu'il savait Ayrton raconta alors en quelques mots ce qu'il s'était passé oh du moins ce qu'il savait Herton raconta alors en peu de mots ce qui s'était passé, ou du moins, ce qu'il savait\"]\n"
   ]
  },
  {
   "cell_type": "code",
   "execution_count": 181,
   "metadata": {},
   "outputs": [],
   "source": [
    "H3=[\"C’est que précisément ce n’était pas un honnête navire repondit Nab C’est que précisément ce n’était pas un honnête navire répondit Nav C'est que précisément ce n'était pas un honnête navire répondit Nab C'est que précisément ce n'était pas un honnête navire répondit Nab C'est que précisément ce n'était pas un honnête navire répondit Nab C'est que précisément ce n'était pas, un honnête navire répondit Nab C’est que précisément ce n’était pas un honnête navire répond Dinabe C'est que précisement ce n'était pas un honnete navire répondit Nab C'est que précisément ce n'était pas un honnête navire repondi nabe C’est que précisément ce n’était pas un honnête navire répondit Nab C'est que précisément ce n'était pas un honnête navire répondit Nab C'est que précisément ce n'était pas un honnête navire répondit l'âme C'est que précisément ce n'était pas un honnête navire répond Inabe C'est que précisément ce n'était pas un navette navire répondit Nab\"]\n"
   ]
  },
  {
   "cell_type": "code",
   "execution_count": 182,
   "metadata": {},
   "outputs": [],
   "source": [
    "H4=[\"Ils ont vu comme j’ai vu moi même et ils confirmeront mes paroles Ils ont vu comme j’ai vu moi même et ils confirmeront mes paroles  Ils ont vu comme j'ai vu moi même et ils confirmeront mes paroles Ils ont vu comme j'ai vu moi-même et ils confirmeront mes paroles Ils ont vu comme j'ai vu moi-même et ils confirmeront mes paroles Ils ont vu comme j'ai vu moi même et ils confirmeront mes paroles  Ils ont vu comme j’ai vu moi même et ils confirmeront mes paroles  Ils ont vu comme j'ai vu moi meme et il comfirmeront mes paroles Ils ont vu comme j'ai vu moi même et ils confirmeront mes paroles Ils ont vu comme j’ai vu moi même ils confirmeront mes paroles Ils ont vu comme j'ai vu moi même et ils confirmeront mes paroles Et ils ont vu comme j'ai vu moi-même et ils confirmeront mes paroles Ils ont vu comme j'ai vu moi même ils confirmeront mes paroles Ils ont vu comme j'ai vu moi même et ils confirmeront mes paroles Ils ont vu comme j'ai vu moi-même et ils confirmeront mes paroles\"]\n"
   ]
  },
  {
   "cell_type": "code",
   "execution_count": 183,
   "metadata": {},
   "outputs": [],
   "source": [
    "H5=[\"Tu n’es plus mon neveu mais mon collègue Tu n’es plus mon neveu mais mon collègue  Tu n'es plus mon neveu mais mon collègue Tu n'es plus mon neveu mais mon collègue Tu n'es plus mon neveu mais mon collègue  Tu n'es plus mon neveu mais, mon collègue  Tu n’es plus mon neveu mais mon collègue Tu n'est plus mon neveu mais mon collégue Tu n'es plus mon neveu mais mon collègue  Tu n’es plus mon neveu mais mon collègue  Tu n'es plus mon neveu mais mon collègue Tu n'es plus mon neveu mais mon collègue Tu n'es plus mon neveu mais mon collègue Tu n'est plus mon neveu mais mon collègue Tu n'es plus mon neveu mais mon collègue\"]"
   ]
  },
  {
   "cell_type": "code",
   "execution_count": 184,
   "metadata": {},
   "outputs": [],
   "source": [
    "G1 = [\"son âme s’élançait jusque dans l’infini et contemplait détachée de ses sens l’ordre immuable de l’univers son âme s’élançait jusque dans l’infini et contemplait détachée de ses sens l’ordre immuable de l’univers son âme s’élançait jusque dans l’infini et contemplait détachée de ses sens l’ordre immuable de l’univers son âme s’élançait jusque dans l’infini et contemplait détachée de ses sens l’ordre immuable de l’univers son âme s’élançait jusque dans l’infini et contemplait détachée de ses sens l’ordre immuable de l’univers son âme s’élançait jusque dans l’infini et contemplait détachée de ses sens l’ordre immuable de l’univers son âme s’élançait jusque dans l’infini et contemplait détachée de ses sens l’ordre immuable de l’univers son âme s’élançait jusque dans l’infini et contemplait détachée de ses sens l’ordre immuable de l’univers son âme s’élançait jusque dans l’infini et contemplait détachée de ses sens l’ordre immuable de l’univers son âme s’élançait jusque dans l’infini et contemplait détachée de ses sens l’ordre immuable de l’univers son âme s’élançait jusque dans l’infini et contemplait détachée de ses sens l’ordre immuable de l’univers son âme s’élançait jusque dans l’infini et contemplait détachée de ses sens l’ordre immuable de l’univers son âme s’élançait jusque dans l’infini et contemplait détachée de ses sens l’ordre immuable de l’univers son âme s’élançait jusque dans l’infini et contemplait détachée de ses sens l’ordre immuable de l’univers\" ]"
   ]
  },
  {
   "cell_type": "code",
   "execution_count": 185,
   "metadata": {},
   "outputs": [],
   "source": [
    "G2=[\"Ayrton raconta alors en peu de mots ce qui s’était passé ou du moins ce qu’il savait Ayrton raconta alors en peu de mots ce qui s’était passé ou du moins ce qu’il savait Ayrton raconta alors en peu de mots ce qui s’était passé ou du moins ce qu’il savait Ayrton raconta alors en peu de mots ce qui s’était passé ou du moins ce qu’il savait Ayrton raconta alors en peu de mots ce qui s’était passé ou du moins ce qu’il savait Ayrton raconta alors en peu de mots ce qui s’était passé ou du moins ce qu’il savait Ayrton raconta alors en peu de mots ce qui s’était passé ou du moins ce qu’il savait Ayrton raconta alors en peu de mots ce qui s’était passé ou du moins ce qu’il savait Ayrton raconta alors en peu de mots ce qui s’était passé ou du moins ce qu’il savait Ayrton raconta alors en peu de mots ce qui s’était passé ou du moins ce qu’il savait Ayrton raconta alors en peu de mots ce qui s’était passé ou du moins ce qu’il savait Ayrton raconta alors en peu de mots ce qui s’était passé ou du moins ce qu’il savait Ayrton raconta alors en peu de mots ce qui s’était passé ou du moins ce qu’il savait Ayrton raconta alors en peu de mots ce qui s’était passé ou du moins ce qu’il savait Ayrton raconta alors en peu de mots ce qui s’était passé ou du moins ce qu’il savait\"]"
   ]
  },
  {
   "cell_type": "code",
   "execution_count": 186,
   "metadata": {},
   "outputs": [],
   "source": [
    "G3 = [\"C’est que précisément ce n’était pas un honnête navire répondit Nab C’est que précisément ce n’était pas un honnête navire répondit Nab C’est que précisément ce n’était pas un honnête navire répondit Nab C’est que précisément ce n’était pas un honnête navire répondit Nab C’est que précisément ce n’était pas un honnête navire répondit Nab C’est que précisément ce n’était pas un honnête navire répondit Nab C’est que précisément ce n’était pas un honnête navire répondit Nab C’est que précisément ce n’était pas un honnête navire répondit Nab C’est que précisément ce n’était pas un honnête navire répondit Nab C’est que précisément ce n’était pas un honnête navire répondit Nab C’est que précisément ce n’était pas un honnête navire répondit Nab C’est que précisément ce n’était pas un honnête navire répondit Nab C’est que précisément ce n’était pas un honnête navire répondit Nab C’est que précisément ce n’était pas un honnête navire répondit Nab\"]"
   ]
  },
  {
   "cell_type": "code",
   "execution_count": 187,
   "metadata": {},
   "outputs": [],
   "source": [
    "G4 = [\"Ils ont vu comme j’ai vu moi-même et ils confirmeront mes paroles Ils ont vu comme j’ai vu moi-même et ils confirmeront mes paroles Ils ont vu comme j’ai vu moi-même et ils confirmeront mes paroles Ils ont vu comme j’ai vu moi-même et ils confirmeront mes paroles Ils ont vu comme j’ai vu moi-même et ils confirmeront mes paroles Ils ont vu comme j’ai vu moi-même et ils confirmeront mes paroles Ils ont vu comme j’ai vu moi-même et ils confirmeront mes paroles Ils ont vu comme j’ai vu moi-même et ils confirmeront mes paroles Ils ont vu comme j’ai vu moi-même et ils confirmeront mes paroles Ils ont vu comme j’ai vu moi-même et ils confirmeront mes paroles Ils ont vu comme j’ai vu moi-même et ils confirmeront mes paroles Ils ont vu comme j’ai vu moi-même et ils confirmeront mes paroles Ils ont vu comme j’ai vu moi-même et ils confirmeront mes paroles Ils ont vu comme j’ai vu moi-même et ils confirmeront mes paroles Ils ont vu comme j’ai vu moi-même et ils confirmeront mes paroles\"]"
   ]
  },
  {
   "cell_type": "code",
   "execution_count": 188,
   "metadata": {},
   "outputs": [],
   "source": [
    "G5 =[\"tu n’es plus mon neveu mais mon collègue tu n’es plus mon neveu mais mon collègue tu n’es plus mon neveu mais mon collègue tu n’es plus mon neveu mais mon collègue tu n’es plus mon neveu mais mon collègue tu n’es plus mon neveu mais mon collègue tu n’es plus mon neveu mais mon collègue tu n’es plus mon neveu mais mon collègue tu n’es plus mon neveu mais mon collègue tu n’es plus mon neveu mais mon collègue tu n’es plus mon neveu mais mon collègue tu n’es plus mon neveu mais mon collègue tu n’es plus mon neveu mais mon collègue tu n’es plus mon neveu mais mon collègue tu n’es plus mon neveu mais mon collègue\"]"
   ]
  },
  {
   "cell_type": "code",
   "execution_count": 189,
   "metadata": {},
   "outputs": [],
   "source": [
    "ground_truth_Fr = [G1,G2,G3,G4,G5]\n",
    "hypo_Fr = [H1,H2,H3,H4,H4]"
   ]
  },
  {
   "cell_type": "code",
   "execution_count": 190,
   "metadata": {},
   "outputs": [],
   "source": [
    "ground_truth_Fr = [ item for elem in ground_truth_Fr for item in elem]\n",
    "hypo_Fr = [ item for elem in hypo_Fr for item in elem]"
   ]
  },
  {
   "cell_type": "code",
   "execution_count": 191,
   "metadata": {},
   "outputs": [
    {
     "data": {
      "text/plain": [
       "['son âme s’élançait jusque dans l’infini et contemplait détachée de ses sens l’ordre immuable de l’univers son âme s’élançait jusque dans l’infini et contemplait détachée de ses sens l’ordre immuable de l’univers son âme s’élançait jusque dans l’infini et contemplait détachée de ses sens l’ordre immuable de l’univers son âme s’élançait jusque dans l’infini et contemplait détachée de ses sens l’ordre immuable de l’univers son âme s’élançait jusque dans l’infini et contemplait détachée de ses sens l’ordre immuable de l’univers son âme s’élançait jusque dans l’infini et contemplait détachée de ses sens l’ordre immuable de l’univers son âme s’élançait jusque dans l’infini et contemplait détachée de ses sens l’ordre immuable de l’univers son âme s’élançait jusque dans l’infini et contemplait détachée de ses sens l’ordre immuable de l’univers son âme s’élançait jusque dans l’infini et contemplait détachée de ses sens l’ordre immuable de l’univers son âme s’élançait jusque dans l’infini et contemplait détachée de ses sens l’ordre immuable de l’univers son âme s’élançait jusque dans l’infini et contemplait détachée de ses sens l’ordre immuable de l’univers son âme s’élançait jusque dans l’infini et contemplait détachée de ses sens l’ordre immuable de l’univers son âme s’élançait jusque dans l’infini et contemplait détachée de ses sens l’ordre immuable de l’univers son âme s’élançait jusque dans l’infini et contemplait détachée de ses sens l’ordre immuable de l’univers',\n",
       " 'Ayrton raconta alors en peu de mots ce qui s’était passé ou du moins ce qu’il savait Ayrton raconta alors en peu de mots ce qui s’était passé ou du moins ce qu’il savait Ayrton raconta alors en peu de mots ce qui s’était passé ou du moins ce qu’il savait Ayrton raconta alors en peu de mots ce qui s’était passé ou du moins ce qu’il savait Ayrton raconta alors en peu de mots ce qui s’était passé ou du moins ce qu’il savait Ayrton raconta alors en peu de mots ce qui s’était passé ou du moins ce qu’il savait Ayrton raconta alors en peu de mots ce qui s’était passé ou du moins ce qu’il savait Ayrton raconta alors en peu de mots ce qui s’était passé ou du moins ce qu’il savait Ayrton raconta alors en peu de mots ce qui s’était passé ou du moins ce qu’il savait Ayrton raconta alors en peu de mots ce qui s’était passé ou du moins ce qu’il savait Ayrton raconta alors en peu de mots ce qui s’était passé ou du moins ce qu’il savait Ayrton raconta alors en peu de mots ce qui s’était passé ou du moins ce qu’il savait Ayrton raconta alors en peu de mots ce qui s’était passé ou du moins ce qu’il savait Ayrton raconta alors en peu de mots ce qui s’était passé ou du moins ce qu’il savait Ayrton raconta alors en peu de mots ce qui s’était passé ou du moins ce qu’il savait',\n",
       " 'C’est que précisément ce n’était pas un honnête navire répondit Nab C’est que précisément ce n’était pas un honnête navire répondit Nab C’est que précisément ce n’était pas un honnête navire répondit Nab C’est que précisément ce n’était pas un honnête navire répondit Nab C’est que précisément ce n’était pas un honnête navire répondit Nab C’est que précisément ce n’était pas un honnête navire répondit Nab C’est que précisément ce n’était pas un honnête navire répondit Nab C’est que précisément ce n’était pas un honnête navire répondit Nab C’est que précisément ce n’était pas un honnête navire répondit Nab C’est que précisément ce n’était pas un honnête navire répondit Nab C’est que précisément ce n’était pas un honnête navire répondit Nab C’est que précisément ce n’était pas un honnête navire répondit Nab C’est que précisément ce n’était pas un honnête navire répondit Nab C’est que précisément ce n’était pas un honnête navire répondit Nab',\n",
       " 'Ils ont vu comme j’ai vu moi-même et ils confirmeront mes paroles Ils ont vu comme j’ai vu moi-même et ils confirmeront mes paroles Ils ont vu comme j’ai vu moi-même et ils confirmeront mes paroles Ils ont vu comme j’ai vu moi-même et ils confirmeront mes paroles Ils ont vu comme j’ai vu moi-même et ils confirmeront mes paroles Ils ont vu comme j’ai vu moi-même et ils confirmeront mes paroles Ils ont vu comme j’ai vu moi-même et ils confirmeront mes paroles Ils ont vu comme j’ai vu moi-même et ils confirmeront mes paroles Ils ont vu comme j’ai vu moi-même et ils confirmeront mes paroles Ils ont vu comme j’ai vu moi-même et ils confirmeront mes paroles Ils ont vu comme j’ai vu moi-même et ils confirmeront mes paroles Ils ont vu comme j’ai vu moi-même et ils confirmeront mes paroles Ils ont vu comme j’ai vu moi-même et ils confirmeront mes paroles Ils ont vu comme j’ai vu moi-même et ils confirmeront mes paroles Ils ont vu comme j’ai vu moi-même et ils confirmeront mes paroles',\n",
       " 'tu n’es plus mon neveu mais mon collègue tu n’es plus mon neveu mais mon collègue tu n’es plus mon neveu mais mon collègue tu n’es plus mon neveu mais mon collègue tu n’es plus mon neveu mais mon collègue tu n’es plus mon neveu mais mon collègue tu n’es plus mon neveu mais mon collègue tu n’es plus mon neveu mais mon collègue tu n’es plus mon neveu mais mon collègue tu n’es plus mon neveu mais mon collègue tu n’es plus mon neveu mais mon collègue tu n’es plus mon neveu mais mon collègue tu n’es plus mon neveu mais mon collègue tu n’es plus mon neveu mais mon collègue tu n’es plus mon neveu mais mon collègue']"
      ]
     },
     "execution_count": 191,
     "metadata": {},
     "output_type": "execute_result"
    }
   ],
   "source": [
    "ground_truth_Fr"
   ]
  },
  {
   "cell_type": "code",
   "execution_count": 192,
   "metadata": {},
   "outputs": [
    {
     "data": {
      "text/plain": [
       "[\"son âme s’élançait jusque dans l’infini et contemplait détaché de ses sens l’ordre immuable de l’univers son âme s’élançait jusqu’à l’infinie et contemplait détachée de ses sens l’ordre immuable de l’univers son âme s'élançait jusque dans l'infini et contemplait, détaché de ses sens l'ordre immuable de l'univers son âme s'élançait jusque dans l'infini et contemplait, détachée de ses sens, l'ordre immuable de l'univers son âme s'élencait jusque dans l'infini, et contemplait détachée de ses sens l'ordre immuable de l'univers son âme s'elancait jusque dans l'infini, et contemplait, détachée de ses sens l'ordre immuable de l'univers son âme s’élançait jusque dans l’infini et contemplait, détachée de ses sens, l’ordre immuable de l’univers  son âme s'élançait jusque dans l'infini et contemplait détaché de ses sens l'ordre immuable de l'univers son âme s'elançait jusque dans l'infini et contemplait détaché de ses sens l'ordre immuable de l'univers son âme s’élançait jusque dans l’infini et contemplait détaché de ses sens l’ordre immuable de l’Univers son âme s'élançait jusque dans l'infini et contemplait détaché de ses sens l'ordre immuable de l'univers son âme s'élançait jusque dans l'infini et contemplait, détâchée de ses sens l'ordre immuable de l'univers son âme s'élançait jusque dans l'infini et contemplait détachez de ses sens l'ordre immuable de l'univers son âme s'élançait jusque dans l'infini et contemplait, détaché de ses sens l'ordre immuable de l'univers\",\n",
       " \"Étron raconta alors en peu de mots ce qui s’était passé ou du moins ce qu’il savait Herton raconta alors en peu de mots ce qu’il s’était passé ou, du moins, ce qu’il savait  Erton raconta alors en peu de mots ce qui s'était passé, ou du moins ce qu'il savait Erton raconta alors en peu de mots ce qui s'était passé - ou, du moins, ce qu'il savait Herton raconta alors en peu de mots ce qu'il s'était passé ou du moins ce qu'il savait Erton raconta alors en peu de mots ce qu'il s'était passé. Ou, du moins, ce qu'il savait Herton raconta alors en peu de mot ce qui s’était passé, ou du moins ce qu’il savait  Erton raconta alors en quelques mot ce qui se passait ou du moins ce qu'il savait Herton raconta alors en peu de mots ce qui s'était passé, ou du moins ce qu'il sa Herton raconta alors en peu de mots ce qui s’etait passé où du moins ce qu’il savait Horton raconta alors en peu de mots ce qu'il s'était passé ou du moins, ce qu'il savait Herton raconta alors en peu de mots ce qu'il s'était passé, ou, du moins, ce qu'il savait Erton raconta à Laure en peu de mots ce qui c'était passé, ou du moins, ce qu'il savait Ayrton raconta alors en quelques mots ce qu'il s'était passé oh du moins ce qu'il savait Herton raconta alors en peu de mots ce qui s'était passé, ou du moins, ce qu'il savait\",\n",
       " \"C’est que précisément ce n’était pas un honnête navire repondit Nab C’est que précisément ce n’était pas un honnête navire répondit Nav C'est que précisément ce n'était pas un honnête navire répondit Nab C'est que précisément ce n'était pas un honnête navire répondit Nab C'est que précisément ce n'était pas un honnête navire répondit Nab C'est que précisément ce n'était pas, un honnête navire répondit Nab C’est que précisément ce n’était pas un honnête navire répond Dinabe C'est que précisement ce n'était pas un honnete navire répondit Nab C'est que précisément ce n'était pas un honnête navire repondi nabe C’est que précisément ce n’était pas un honnête navire répondit Nab C'est que précisément ce n'était pas un honnête navire répondit Nab C'est que précisément ce n'était pas un honnête navire répondit l'âme C'est que précisément ce n'était pas un honnête navire répond Inabe C'est que précisément ce n'était pas un navette navire répondit Nab\",\n",
       " \"Ils ont vu comme j’ai vu moi même et ils confirmeront mes paroles Ils ont vu comme j’ai vu moi même et ils confirmeront mes paroles  Ils ont vu comme j'ai vu moi même et ils confirmeront mes paroles Ils ont vu comme j'ai vu moi-même et ils confirmeront mes paroles Ils ont vu comme j'ai vu moi-même et ils confirmeront mes paroles Ils ont vu comme j'ai vu moi même et ils confirmeront mes paroles  Ils ont vu comme j’ai vu moi même et ils confirmeront mes paroles  Ils ont vu comme j'ai vu moi meme et il comfirmeront mes paroles Ils ont vu comme j'ai vu moi même et ils confirmeront mes paroles Ils ont vu comme j’ai vu moi même ils confirmeront mes paroles Ils ont vu comme j'ai vu moi même et ils confirmeront mes paroles Et ils ont vu comme j'ai vu moi-même et ils confirmeront mes paroles Ils ont vu comme j'ai vu moi même ils confirmeront mes paroles Ils ont vu comme j'ai vu moi même et ils confirmeront mes paroles Ils ont vu comme j'ai vu moi-même et ils confirmeront mes paroles\",\n",
       " \"Ils ont vu comme j’ai vu moi même et ils confirmeront mes paroles Ils ont vu comme j’ai vu moi même et ils confirmeront mes paroles  Ils ont vu comme j'ai vu moi même et ils confirmeront mes paroles Ils ont vu comme j'ai vu moi-même et ils confirmeront mes paroles Ils ont vu comme j'ai vu moi-même et ils confirmeront mes paroles Ils ont vu comme j'ai vu moi même et ils confirmeront mes paroles  Ils ont vu comme j’ai vu moi même et ils confirmeront mes paroles  Ils ont vu comme j'ai vu moi meme et il comfirmeront mes paroles Ils ont vu comme j'ai vu moi même et ils confirmeront mes paroles Ils ont vu comme j’ai vu moi même ils confirmeront mes paroles Ils ont vu comme j'ai vu moi même et ils confirmeront mes paroles Et ils ont vu comme j'ai vu moi-même et ils confirmeront mes paroles Ils ont vu comme j'ai vu moi même ils confirmeront mes paroles Ils ont vu comme j'ai vu moi même et ils confirmeront mes paroles Ils ont vu comme j'ai vu moi-même et ils confirmeront mes paroles\"]"
      ]
     },
     "execution_count": 192,
     "metadata": {},
     "output_type": "execute_result"
    }
   ],
   "source": [
    "hypo_Fr"
   ]
  },
  {
   "cell_type": "code",
   "execution_count": 194,
   "metadata": {},
   "outputs": [
    {
     "data": {
      "text/plain": [
       "0.42336548767416937"
      ]
     },
     "execution_count": 194,
     "metadata": {},
     "output_type": "execute_result"
    }
   ],
   "source": [
    "from jiwer import wer\n",
    "error = wer(ground_truth_Fr, hypo_Fr)\n",
    "error"
   ]
  },
  {
   "cell_type": "markdown",
   "metadata": {},
   "source": [
    "English"
   ]
  },
  {
   "cell_type": "code",
   "execution_count": 169,
   "metadata": {},
   "outputs": [],
   "source": [
    "H1 = [\"National gallery gets all clear after National gallery gets all clear after National gallery gets all clear after National gallery gets all clear after National gallery gets all clear after National gallery gets all clear after National gallery gets all clear after National gallery gets all clear after\"]\n",
    "G1 = [\"National gallery gets all clear after National gallery gets all clear after National gallery gets all clear after National gallery gets all clear after National gallery gets all clear after National gallery gets all clear after National gallery gets all clear after National gallery gets all clear after\"]\n"
   ]
  },
  {
   "cell_type": "code",
   "execution_count": 170,
   "metadata": {},
   "outputs": [],
   "source": [
    "H2=[\"Korean subway fire 314 still missing Korean subway fired 314 still missing  Korean subway fired 314 still missing  Korean subway fire 314 still missing Korean subway fire, 314 still missing Cory and subway fire 314 still missing Korean subway fire 314 still missing Korean subway fire, 314 still missing Korean subway fire 314 still missing\"]\n",
    "G2=[\"Korean subway fire 314 still missing Korean subway fire 314 still missing Korean subway fire 314 still missing Korean subway fire 314 still missing Korean subway fire 314 still missing Korean subway fire 314 still missing Korean subway fire 314 still missing Korean subway fire 314 still missing Korean subway fire 314 still missing\"]\n"
   ]
  },
  {
   "cell_type": "code",
   "execution_count": 171,
   "metadata": {},
   "outputs": [],
   "source": [
    "H3=[\"death toll continues to climb in south korea death toll continues to climb is south korean subway  death toll continues to climb in south korean subway  death toll continues to climb in south korean subway death toll continues to climb in south korean subway death toll continues to climb in south korean subway death toll continues to climb in south korean subway death toll continues to climb in south korean subway death toll continues to climb in south korean subway\"]\n",
    "G3=[\"death toll continues to climb in south korea death toll continues to climb in south korea death toll continues to climb in south korea death toll continues to climb in south korea death toll continues to climb in south korea death toll continues to climb in south korea death toll continues to climb in south korea death toll continues to climb in south korea death toll continues to climb in south korea\"]\n",
    "\n",
    "\n"
   ]
  },
  {
   "cell_type": "code",
   "execution_count": 172,
   "metadata": {},
   "outputs": [],
   "source": [
    "H4=[\"funds allocated for domestic violence victims funds allocated for domestic violence victims  funds allocated for domestic violence victims funds allocated for domestic violence victims fox allocated for domestic violence victims funds allocated for domestic violence victims funds allocated for domestic violence victims allocated for domestic violence victims allocated for domestic violence victims\"]\n",
    "H4=[\"funds allocated for domestic violence victims funds allocated for domestic violence victims funds allocated for domestic violence victims funds allocated for domestic violence victims funds allocated for domestic violence victims funds allocated for domestic violence victims funds allocated for domestic violence victims funds allocated for domestic violence victims funds allocated for domestic violence victims\"]\n",
    "\n"
   ]
  },
  {
   "cell_type": "code",
   "execution_count": 173,
   "metadata": {},
   "outputs": [],
   "source": [
    "H5= [\"community church to help homeless youth community urged to help homeless youth community urged to help homeless youth  community urged to help homeless youth community urged to help homeless youth community urged to help homeless youth community urged to help homeless youth community urged to help homeless youth\"]\n",
    "G5 = [\"community church to help homeless youth community urged to help homeless youth community church to help homeless youth community urged to help homeless youth community church to help homeless youth community urged to help homeless youth community church to help homeless youth community urged to help homeless youth community church to help homeless youth community urged to help homeless youth community church to help homeless youth community urged to help homeless youth community church to help homeless youth community urged to help homeless youth community church to help homeless youth community urged to help homeless youth\"]\n",
    "\n"
   ]
  },
  {
   "cell_type": "code",
   "execution_count": 174,
   "metadata": {},
   "outputs": [],
   "source": [
    "hypo =[H1,H2,H3,H4,H5]\n",
    "ground_truth=[G1,G2,G3,G4,G5]"
   ]
  },
  {
   "cell_type": "code",
   "execution_count": 175,
   "metadata": {},
   "outputs": [],
   "source": [
    "ground_truth = [ item for elem in ground_truth for item in elem]\n",
    "hypo = [ item for elem in hypo for item in elem]"
   ]
  },
  {
   "cell_type": "code",
   "execution_count": 176,
   "metadata": {},
   "outputs": [],
   "source": [
    "from jiwer import wer\n",
    "error = wer(ground_truth, hypo)"
   ]
  },
  {
   "cell_type": "code",
   "execution_count": 177,
   "metadata": {},
   "outputs": [
    {
     "data": {
      "text/plain": [
       "0.5577777777777778"
      ]
     },
     "execution_count": 177,
     "metadata": {},
     "output_type": "execute_result"
    }
   ],
   "source": [
    "error"
   ]
  },
  {
   "cell_type": "code",
   "execution_count": null,
   "metadata": {},
   "outputs": [],
   "source": []
  }
 ],
 "metadata": {
  "kernelspec": {
   "display_name": "Python 3",
   "language": "python",
   "name": "python3"
  },
  "language_info": {
   "codemirror_mode": {
    "name": "ipython",
    "version": 3
   },
   "file_extension": ".py",
   "mimetype": "text/x-python",
   "name": "python",
   "nbconvert_exporter": "python",
   "pygments_lexer": "ipython3",
   "version": "3.7.6"
  }
 },
 "nbformat": 4,
 "nbformat_minor": 4
}
