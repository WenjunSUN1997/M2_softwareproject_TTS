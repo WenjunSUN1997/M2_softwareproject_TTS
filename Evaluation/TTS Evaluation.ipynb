{
 "cells": [
  {
   "cell_type": "code",
   "execution_count": 41,
   "metadata": {},
   "outputs": [],
   "source": [
    "import os\n",
    "\n",
    "def read_files(directory):\n",
    "        files = []\n",
    "        for root, dirnames, filenames in os.walk(directory):\n",
    "            for filename in filenames:\n",
    "                files.append(os.path.join(root, filename))\n",
    "            return files\n",
    "#         print(files)"
   ]
  },
  {
   "cell_type": "code",
   "execution_count": 60,
   "metadata": {},
   "outputs": [
    {
     "data": {
      "text/plain": [
       "['C:\\\\Users\\\\User\\\\Desktop\\\\Evaluation\\\\105.wav',\n",
       " 'C:\\\\Users\\\\User\\\\Desktop\\\\Evaluation\\\\27.wav',\n",
       " 'C:\\\\Users\\\\User\\\\Desktop\\\\Evaluation\\\\35.wav',\n",
       " 'C:\\\\Users\\\\User\\\\Desktop\\\\Evaluation\\\\51.wav',\n",
       " 'C:\\\\Users\\\\User\\\\Desktop\\\\Evaluation\\\\84.wav']"
      ]
     },
     "execution_count": 60,
     "metadata": {},
     "output_type": "execute_result"
    }
   ],
   "source": [
    "file = read_files(path)\n",
    "file"
   ]
  },
  {
   "cell_type": "code",
   "execution_count": 128,
   "metadata": {},
   "outputs": [],
   "source": [
    "import speech_recognition as sr\n",
    "\n",
    "def transcribe_audio(path):\n",
    "    r = sr.Recognizer()\n",
    "    audio_file = sr.AudioFile(path)\n",
    "    with audio_file as source:\n",
    "        audio = r.record(source)\n",
    "    try:\n",
    "        res = r.recognize_google(audio, language=\"en-US\")\n",
    "    except sr.UnknownValueError:\n",
    "        res = \"(The speech is unintelligible)\"\n",
    "    except sr.RequestError:\n",
    "        res = \"(The speech recognition operation failed)\"\n",
    "    return res"
   ]
  },
  {
   "cell_type": "code",
   "execution_count": 130,
   "metadata": {},
   "outputs": [],
   "source": [
    "hypo = []\n",
    "for f in file:\n",
    "    transcription = transcribe_audio(f)\n",
    "    hypo.append(transcription)\n",
    "    "
   ]
  },
  {
   "cell_type": "code",
   "execution_count": 131,
   "metadata": {},
   "outputs": [
    {
     "data": {
      "text/plain": [
       "['National Gallery gets all clear',\n",
       " 'community to help homeless',\n",
       " 'death toll continues to climb in South Korean sub',\n",
       " 'what time is allocated for domestic violence victims',\n",
       " 'Korean subway fire a314 still miss']"
      ]
     },
     "execution_count": 131,
     "metadata": {},
     "output_type": "execute_result"
    }
   ],
   "source": [
    "hypo"
   ]
  },
  {
   "cell_type": "code",
   "execution_count": 135,
   "metadata": {},
   "outputs": [],
   "source": [
    "ground_truth = [\"National Gallery gets all clear\", \"community to help homeless\", \"death toll continues to climb in South Korean subway\",\"what time is allocated for domestic violence victims\",\"Korean subway fire a314 still miss\"]"
   ]
  },
  {
   "cell_type": "code",
   "execution_count": 136,
   "metadata": {},
   "outputs": [],
   "source": [
    "#The most simple use-case is computing the edit distance between two strings:\n",
    "from jiwer import wer\n",
    "error = wer(ground_truth, hypo)"
   ]
  },
  {
   "cell_type": "code",
   "execution_count": 137,
   "metadata": {},
   "outputs": [
    {
     "data": {
      "text/plain": [
       "0.03125"
      ]
     },
     "execution_count": 137,
     "metadata": {},
     "output_type": "execute_result"
    }
   ],
   "source": [
    "error"
   ]
  },
  {
   "cell_type": "code",
   "execution_count": null,
   "metadata": {},
   "outputs": [],
   "source": []
  }
 ],
 "metadata": {
  "kernelspec": {
   "display_name": "Python 3",
   "language": "python",
   "name": "python3"
  },
  "language_info": {
   "codemirror_mode": {
    "name": "ipython",
    "version": 3
   },
   "file_extension": ".py",
   "mimetype": "text/x-python",
   "name": "python",
   "nbconvert_exporter": "python",
   "pygments_lexer": "ipython3",
   "version": "3.7.6"
  }
 },
 "nbformat": 4,
 "nbformat_minor": 4
}
