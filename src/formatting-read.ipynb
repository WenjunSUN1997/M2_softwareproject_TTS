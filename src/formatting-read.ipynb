{
 "cells": [
  {
   "cell_type": "code",
   "execution_count": 9,
   "metadata": {},
   "outputs": [],
   "source": [
    "import os\n",
    "import re"
   ]
  },
  {
   "cell_type": "code",
   "execution_count": 34,
   "metadata": {},
   "outputs": [],
   "source": [
    "dir = \"/home/devmood/private/uni/SEM3/proj/SiwisFrenchSpeechSynthesisDatabase/text/part1\"\n",
    "\n",
    "paths = [os.path.join(dir, x) for x in os.listdir(dir)]"
   ]
  },
  {
   "cell_type": "code",
   "execution_count": null,
   "metadata": {},
   "outputs": [],
   "source": [
    "def process(path):\n",
    "\n",
    "    stream = os.popen(f\"perl xd.pl {path} texts hts run\")\n",
    "    out = stream.read().replace(\"mode=run\\n\", \"xd\").replace(\"\\nDELETE\", \"xd\").split(\"xd\")[1:-1][0].split()\n",
    "    lines = [line.strip() for line in out]\n",
    "    \n",
    "    phonemes = []\n",
    "    for x in lines:\n",
    "        splt = x.replace(\"-\", \"¤\").replace(\"+\", \"¤\").split(\"¤\")\n",
    "        if len(splt) > 1:\n",
    "            phonemes.append(splt[1])\n",
    "                \n",
    "    return phonemes\n",
    "\n",
    "\n",
    "output = list(map(lambda file: process(file), paths))"
   ]
  },
  {
   "cell_type": "code",
   "execution_count": null,
   "metadata": {},
   "outputs": [],
   "source": [
    "len(output)"
   ]
  },
  {
   "cell_type": "code",
   "execution_count": null,
   "metadata": {},
   "outputs": [],
   "source": [
    "from collections import Counter\n",
    "\n",
    "flat = [xi for x in output for xi in x]\n",
    "phon2cnt = dict(Counter(flat).most_common())\n",
    "print(phon2cnt)"
   ]
  },
  {
   "cell_type": "code",
   "execution_count": null,
   "metadata": {},
   "outputs": [],
   "source": [
    "phon2idx = {x: i for i, x in enumerate(phon2cnt.keys())}\n",
    "idx2phon = {v: k for k, v in phon2idx.items()}"
   ]
  },
  {
   "cell_type": "code",
   "execution_count": null,
   "metadata": {},
   "outputs": [],
   "source": [
    "with open(os.path.join(os.path.dirname(os.path.abspath(dir)), \"output.txt\"), \"w\") as fout:\n",
    "    for path, phonemes in zip(paths, output):\n",
    "        line = f\"{path} | {' '.join([str(phon2idx[x]) for x in phonemes])}\\n\"\n",
    "        print(line.split(\"/\")[-1])\n",
    "        fout.write(line)"
   ]
  },
  {
   "cell_type": "code",
   "execution_count": null,
   "metadata": {},
   "outputs": [],
   "source": []
  }
 ],
 "metadata": {
  "kernelspec": {
   "display_name": "Python 3",
   "language": "python",
   "name": "python3"
  },
  "language_info": {
   "codemirror_mode": {
    "name": "ipython",
    "version": 3
   },
   "file_extension": ".py",
   "mimetype": "text/x-python",
   "name": "python",
   "nbconvert_exporter": "python",
   "pygments_lexer": "ipython3",
   "version": "3.7.7"
  }
 },
 "nbformat": 4,
 "nbformat_minor": 4
}
